{
  "nbformat": 4,
  "nbformat_minor": 0,
  "metadata": {
    "colab": {
      "provenance": []
    },
    "kernelspec": {
      "name": "python3",
      "display_name": "Python 3"
    },
    "language_info": {
      "name": "python"
    }
  },
  "cells": [
    {
      "cell_type": "markdown",
      "source": [
        "# **Assignment**\n",
        "# **FUNCTIONS**"
      ],
      "metadata": {
        "id": "ZuTJXJcblLmO"
      }
    },
    {
      "cell_type": "markdown",
      "source": [
        "# **1. What is the difference between a function and a method in Python?**\n",
        "\n",
        "Ans - **Function**\n",
        "\n",
        "A function is a structured, reusable code block utilized for carrying out a specific task. Functions facilitate the creation of modular code, simplifying maintenance and reusability. It Belongs to the global scope and is independent of any object. Called directly using its name, possibly with arguments\n",
        "\n",
        "**Method**\n",
        "A method is a function that is associated with an object and is called on that object. It Belongs to a class and operates on an instance of the class or the class itself. Called using the . (dot) operator on an object or class instance."
      ],
      "metadata": {
        "id": "9NQlA0a_YjRd"
      }
    },
    {
      "cell_type": "code",
      "execution_count": 5,
      "metadata": {
        "colab": {
          "base_uri": "https://localhost:8080/"
        },
        "id": "wzAIhqeHYDw4",
        "outputId": "926f6078-f32d-4cf6-df8e-c5b4380346a4"
      },
      "outputs": [
        {
          "output_type": "stream",
          "name": "stdout",
          "text": [
            "Hello, Diksha!\n"
          ]
        }
      ],
      "source": [
        "# Example of Function\n",
        "\n",
        "def greet(name):\n",
        "    return f\"Hello, {name}!\"\n",
        "\n",
        "print(greet(\"Diksha\"))"
      ]
    },
    {
      "cell_type": "code",
      "source": [
        "# Example of Method\n",
        "\n",
        "class Greeter:\n",
        "    def greet(self, name):\n",
        "        return f\"Hello, {name}!\"\n",
        "\n",
        "greeter = Greeter()\n",
        "print(greeter.greet(\"Diskha\"))"
      ],
      "metadata": {
        "colab": {
          "base_uri": "https://localhost:8080/"
        },
        "id": "8mmdAE9wkjjS",
        "outputId": "b6067339-6e1f-4543-d671-f829a09ef644"
      },
      "execution_count": 8,
      "outputs": [
        {
          "output_type": "stream",
          "name": "stdout",
          "text": [
            "Hello, Diskha!\n"
          ]
        }
      ]
    },
    {
      "cell_type": "markdown",
      "source": [
        "# **2. Explain the concept of function arguments and parameters in Python.**\n",
        "\n",
        "Ans - **Function arguments**\n",
        "\n",
        "Function arguments are the actual values or data passed to the function when it is called. These values are assigned to the corresponding parameters in the function. Types are\n",
        "\n",
        "1.Default Parameters\n",
        "\n",
        "**Parameters**\n",
        "\n",
        "Parameters are the placeholders defined in the function header when a function is created. They act as variables that accept values (arguments) when the function is called. Types are\n",
        "\n",
        "1.Positional Arguments\n",
        "\n",
        "2.Keyword Arguments\n",
        "\n",
        "3.Variable-Length Arguments"
      ],
      "metadata": {
        "id": "j8oFOu6amKjL"
      }
    },
    {
      "cell_type": "code",
      "source": [
        "# Example of Parameter\n",
        "\n",
        "def greet(name):   # 'name' is the parameter\n",
        "    return f\"Hello, {name}!\"\n",
        "\n",
        "print(greet(\"Prateek\"))"
      ],
      "metadata": {
        "colab": {
          "base_uri": "https://localhost:8080/"
        },
        "id": "kvT04psskmA3",
        "outputId": "5156b52d-e5ef-4e13-fd02-c35cce398ba1"
      },
      "execution_count": 12,
      "outputs": [
        {
          "output_type": "stream",
          "name": "stdout",
          "text": [
            "Hello, Prateek!\n"
          ]
        }
      ]
    },
    {
      "cell_type": "code",
      "source": [
        "# Example of Argument\n",
        "\n",
        "print(greet(\"Rushikesh\"))  # 'Alice' is the argument"
      ],
      "metadata": {
        "colab": {
          "base_uri": "https://localhost:8080/"
        },
        "id": "UDalDJlqqMjo",
        "outputId": "4b42ee57-4e94-4f41-f226-10aec1912877"
      },
      "execution_count": 15,
      "outputs": [
        {
          "output_type": "stream",
          "name": "stdout",
          "text": [
            "Hello, Rushikesh!\n"
          ]
        }
      ]
    },
    {
      "cell_type": "code",
      "source": [
        "# Example of Positional Arguments\n",
        "\n",
        "def add(x, y):\n",
        "    return x + y\n",
        "\n",
        "print(add(16, 80))"
      ],
      "metadata": {
        "colab": {
          "base_uri": "https://localhost:8080/"
        },
        "id": "HiNNMp-3rAgK",
        "outputId": "09395920-3394-4b02-c390-640c9bbc6469"
      },
      "execution_count": 17,
      "outputs": [
        {
          "output_type": "stream",
          "name": "stdout",
          "text": [
            "96\n"
          ]
        }
      ]
    },
    {
      "cell_type": "code",
      "source": [
        "# Example of Default Parameters\n",
        "\n",
        "def greet(name= \"Tennis\"):\n",
        "    return f\"Hello, {name}!\"\n",
        "\n",
        "print(greet())\n",
        "print(greet(\"Federer\"))"
      ],
      "metadata": {
        "colab": {
          "base_uri": "https://localhost:8080/"
        },
        "id": "vomhHPz0rjRx",
        "outputId": "68b53c49-c04a-4fd4-e10d-33792a0d318f"
      },
      "execution_count": 21,
      "outputs": [
        {
          "output_type": "stream",
          "name": "stdout",
          "text": [
            "Hello, Tennis!\n",
            "Hello, Federer!\n"
          ]
        }
      ]
    },
    {
      "cell_type": "code",
      "source": [
        "# Example of Keyword Arguments\n",
        "\n",
        "def subtract(x, y):\n",
        "    return x - y\n",
        "\n",
        "print(subtract(x=56, y=25))"
      ],
      "metadata": {
        "colab": {
          "base_uri": "https://localhost:8080/"
        },
        "id": "hh7O1J4grusk",
        "outputId": "b38dda54-5812-4a27-ec69-3e65e0463f2d"
      },
      "execution_count": 24,
      "outputs": [
        {
          "output_type": "stream",
          "name": "stdout",
          "text": [
            "31\n"
          ]
        }
      ]
    },
    {
      "cell_type": "markdown",
      "source": [
        "# **3. What are the different ways to define and call a function in Python?**\n",
        "\n",
        "Ans - In Python, functions are defined using the **def** keyword and can be called in several ways depending on how they are defined and the arguments they require.\n",
        "\n",
        "A function is defined using the def keyword, followed by the function name, parameters, and a block of code.\n",
        "\n",
        "**Ways to Define Functions in Python**\n",
        "1. Function with No Arguments and No Return Value\n",
        "2. Function with Arguments\n",
        "3. Function with a Return Value - using return statement\n",
        "4. Function with Default Parameters\n",
        "5. Function with Variable-Length Arguments\n",
        "6. Lambda Functions\n",
        "7. Nested Functions\n",
        "8. Generator Functions\n",
        "\n",
        "**Ways to Call Functions**\n",
        "1. Positional Arguments - Pass arguments in the same order as defined in the function.\n",
        "2. Keyword Arguments - Pass arguments using parameter names, regardless of order.\n",
        "3. Default Arguments\n",
        "4. Passing Variable-Length Arguments\n",
        "5. Using Functions as Argument\n"
      ],
      "metadata": {
        "id": "rCigwNN-tFOs"
      }
    },
    {
      "cell_type": "code",
      "source": [
        "# Examples of Basic Function\n",
        "\n",
        "def greet():\n",
        "    print(\"Hello, Roger!\")\n",
        "greet()"
      ],
      "metadata": {
        "colab": {
          "base_uri": "https://localhost:8080/"
        },
        "id": "JKABEpODspQI",
        "outputId": "39552dd4-c65a-494d-d50a-7fc217b8a58f"
      },
      "execution_count": 8,
      "outputs": [
        {
          "output_type": "stream",
          "name": "stdout",
          "text": [
            "Hello, Roger!\n"
          ]
        }
      ]
    },
    {
      "cell_type": "code",
      "source": [
        "# Function with No Arguments and No Return Value\n",
        "\n",
        "def namaskar_dosto():\n",
        "    print(\"namaskar_dosto!\")\n",
        "\n",
        "namaskar_dosto()"
      ],
      "metadata": {
        "colab": {
          "base_uri": "https://localhost:8080/"
        },
        "id": "BqCmaYmQq2o3",
        "outputId": "86fdfd59-ca90-4acf-db2f-8efd048ee586"
      },
      "execution_count": 11,
      "outputs": [
        {
          "output_type": "stream",
          "name": "stdout",
          "text": [
            "namaskar_dosto!\n"
          ]
        }
      ]
    },
    {
      "cell_type": "code",
      "source": [
        "# Function with Arguments\n",
        "\n",
        "def greet(name):\n",
        "    print(f\"Hello, {name}!\")\n",
        "\n",
        "greet(\"Roger\")"
      ],
      "metadata": {
        "colab": {
          "base_uri": "https://localhost:8080/"
        },
        "id": "a0H5yd9urcGC",
        "outputId": "e69c6296-b3fd-49d4-b1f0-2d914c114ea5"
      },
      "execution_count": 13,
      "outputs": [
        {
          "output_type": "stream",
          "name": "stdout",
          "text": [
            "Hello, Roger!\n"
          ]
        }
      ]
    },
    {
      "cell_type": "code",
      "source": [
        "# Function with a Return Value\n",
        "\n",
        "def add(a, b):\n",
        "    return a + b\n",
        "\n",
        "result = add(18, 19)\n",
        "print(result)"
      ],
      "metadata": {
        "colab": {
          "base_uri": "https://localhost:8080/"
        },
        "id": "l_8_q9g2r8wL",
        "outputId": "3b7f13df-fe4c-4b7d-9294-0988bbaf75ed"
      },
      "execution_count": 16,
      "outputs": [
        {
          "output_type": "stream",
          "name": "stdout",
          "text": [
            "37\n"
          ]
        }
      ]
    },
    {
      "cell_type": "code",
      "source": [
        "# Function with Default Parameters\n",
        "\n",
        "def greet(name=\"Roger\"):\n",
        "    print(f\"Hello, {name}!\")\n",
        "\n",
        "greet()\n",
        "greet(\"Nadal\")"
      ],
      "metadata": {
        "colab": {
          "base_uri": "https://localhost:8080/"
        },
        "id": "_JbKOHlksD6v",
        "outputId": "ba002611-9e5a-451f-97ae-4af990713920"
      },
      "execution_count": 20,
      "outputs": [
        {
          "output_type": "stream",
          "name": "stdout",
          "text": [
            "Hello, Roger!\n",
            "Hello, Nadal!\n"
          ]
        }
      ]
    },
    {
      "cell_type": "code",
      "source": [
        "# Function with Variable-Length Arguments\n",
        "\n",
        "def sum_all(*args):\n",
        "    return sum(args)\n",
        "\n",
        "print(sum_all(1, 2, 3, 4))"
      ],
      "metadata": {
        "colab": {
          "base_uri": "https://localhost:8080/"
        },
        "id": "jWoi4HSksSxE",
        "outputId": "2eab8ef4-b326-43ef-f363-64c883eab5eb"
      },
      "execution_count": 21,
      "outputs": [
        {
          "output_type": "stream",
          "name": "stdout",
          "text": [
            "10\n"
          ]
        }
      ]
    },
    {
      "cell_type": "code",
      "source": [
        "# Lambda Functions\n",
        "\n",
        "square = lambda x: x ** 3\n",
        "print(square(4))"
      ],
      "metadata": {
        "colab": {
          "base_uri": "https://localhost:8080/"
        },
        "id": "-HEXn9fMs8UD",
        "outputId": "d434d132-14ce-4b8e-cae2-eb39357bac14"
      },
      "execution_count": 23,
      "outputs": [
        {
          "output_type": "stream",
          "name": "stdout",
          "text": [
            "64\n"
          ]
        }
      ]
    },
    {
      "cell_type": "code",
      "source": [
        "# Nested Functions\n",
        "\n",
        "def outer_function(name):\n",
        "    def inner_function():\n",
        "        print(f\"Hello, {name}!\")\n",
        "    inner_function()\n",
        "\n",
        "outer_function(\"Federer\")"
      ],
      "metadata": {
        "colab": {
          "base_uri": "https://localhost:8080/"
        },
        "id": "jKe1znaWtG-6",
        "outputId": "5d3e200e-e909-4c40-d1ef-361a68c55f0c"
      },
      "execution_count": 25,
      "outputs": [
        {
          "output_type": "stream",
          "name": "stdout",
          "text": [
            "Hello, Federer!\n"
          ]
        }
      ]
    },
    {
      "cell_type": "code",
      "source": [
        "# Generator Functions\n",
        "\n",
        "def generate_numbers(n):\n",
        "    for i in range(n):\n",
        "        yield i\n",
        "\n",
        "for number in generate_numbers(8):\n",
        "    print(number)"
      ],
      "metadata": {
        "colab": {
          "base_uri": "https://localhost:8080/"
        },
        "id": "MECPCWNitQ9D",
        "outputId": "b8da4ccf-1165-449e-f27d-37503b202239"
      },
      "execution_count": 27,
      "outputs": [
        {
          "output_type": "stream",
          "name": "stdout",
          "text": [
            "0\n",
            "1\n",
            "2\n",
            "3\n",
            "4\n",
            "5\n",
            "6\n",
            "7\n"
          ]
        }
      ]
    },
    {
      "cell_type": "code",
      "source": [
        "# Example on Ways to Call Functions\n",
        "# Positional Arguments\n",
        "\n",
        "def greet(first_name, last_name):\n",
        "    print(f\"Hello, {first_name} {last_name}!\")\n",
        "\n",
        "greet(\"Roger\", \"Federer\")"
      ],
      "metadata": {
        "colab": {
          "base_uri": "https://localhost:8080/"
        },
        "id": "MweLmZI8ts_3",
        "outputId": "8594bac0-33fc-47c7-be9f-d29d50d12974"
      },
      "execution_count": 29,
      "outputs": [
        {
          "output_type": "stream",
          "name": "stdout",
          "text": [
            "Hello, Roger Federer!\n"
          ]
        }
      ]
    },
    {
      "cell_type": "code",
      "source": [
        "# Keyword Arguments\n",
        "\n",
        "greet(first_name=\"Roger\", last_name=\"Federer\")"
      ],
      "metadata": {
        "colab": {
          "base_uri": "https://localhost:8080/"
        },
        "id": "Dy8SVkyOt8bn",
        "outputId": "6d7de17d-cf77-44bf-88ea-7e7592e72180"
      },
      "execution_count": 31,
      "outputs": [
        {
          "output_type": "stream",
          "name": "stdout",
          "text": [
            "Hello, Roger Federer!\n"
          ]
        }
      ]
    },
    {
      "cell_type": "code",
      "source": [
        "# Passing Variable-Length Arguments\n",
        "\n",
        "def sum_all(*args):\n",
        "    print(sum(args))\n",
        "\n",
        "sum_all(7, 8, 9)"
      ],
      "metadata": {
        "colab": {
          "base_uri": "https://localhost:8080/"
        },
        "id": "Kn7kL-7_uEuH",
        "outputId": "ad394f44-c98d-4d23-998d-bc05b085b5af"
      },
      "execution_count": 33,
      "outputs": [
        {
          "output_type": "stream",
          "name": "stdout",
          "text": [
            "24\n"
          ]
        }
      ]
    },
    {
      "cell_type": "markdown",
      "source": [
        "# **4. What is the purpose of the `return` statement in a Python function?**\n",
        "\n",
        "Ans - Determines the value that the function will return. If not included, the function defaults to returning None. It is used to exit a function and send a value (or multiple values) back to the function's caller. It allows a function to produce a result that can be stored, processed, or used elsewhere in the program.\n",
        "\n",
        "**Key Purposes of the return Statement are as follows**"
      ],
      "metadata": {
        "id": "oUS5aTMbvzH6"
      }
    },
    {
      "cell_type": "code",
      "source": [
        "# Example\n",
        "# Returning a Result\n",
        "\n",
        "def add(a, b):\n",
        "    return a + b\n",
        "a = add(12, 18)\n",
        "print(a)"
      ],
      "metadata": {
        "colab": {
          "base_uri": "https://localhost:8080/"
        },
        "id": "AlAgNNClvnRz",
        "outputId": "c5d3beeb-76a6-471c-c1fb-2160618d4d3e"
      },
      "execution_count": 4,
      "outputs": [
        {
          "output_type": "stream",
          "name": "stdout",
          "text": [
            "30\n"
          ]
        }
      ]
    },
    {
      "cell_type": "code",
      "source": [
        "# Terminating Function Execution\n",
        "\n",
        "def check_even(number):\n",
        "    if number % 2 == 0:\n",
        "        return \"Number is Even\"\n",
        "    return \"Number is Odd\"\n",
        "\n",
        "print(check_even(4))"
      ],
      "metadata": {
        "colab": {
          "base_uri": "https://localhost:8080/"
        },
        "id": "H2LJfnet0UMz",
        "outputId": "113c02b5-3204-4d67-9ba7-0e8e57cf56bd"
      },
      "execution_count": 8,
      "outputs": [
        {
          "output_type": "stream",
          "name": "stdout",
          "text": [
            "Number is Even\n"
          ]
        }
      ]
    },
    {
      "cell_type": "code",
      "source": [
        "def check_even(number):\n",
        "    if number % 2 == 0:\n",
        "        return \"Number is Even\"\n",
        "    return \"Number is Odd\"\n",
        "\n",
        "print(check_even(7))"
      ],
      "metadata": {
        "colab": {
          "base_uri": "https://localhost:8080/"
        },
        "id": "T0gQyt2q0u6o",
        "outputId": "90647574-9c8c-4be0-e32e-7ed0d34dca74"
      },
      "execution_count": 7,
      "outputs": [
        {
          "output_type": "stream",
          "name": "stdout",
          "text": [
            "Number is Odd\n"
          ]
        }
      ]
    },
    {
      "cell_type": "code",
      "source": [
        "# Returning Multiple Values\n",
        "\n",
        "def operations(a, b):\n",
        "    return a + b, a - b, a * b\n",
        "\n",
        "result = operations(200, 100)\n",
        "print(result)"
      ],
      "metadata": {
        "colab": {
          "base_uri": "https://localhost:8080/"
        },
        "id": "ACbdY9Qm01zK",
        "outputId": "6e41a076-2b6e-4eac-8cac-24e04033e843"
      },
      "execution_count": 10,
      "outputs": [
        {
          "output_type": "stream",
          "name": "stdout",
          "text": [
            "(300, 100, 20000)\n"
          ]
        }
      ]
    },
    {
      "cell_type": "code",
      "source": [
        "# Returning Nothing (None)\n",
        "\n",
        "def greet():\n",
        "    print(\"Hello!\")\n",
        "    return\n",
        "\n",
        "result = greet()\n",
        "print(result)"
      ],
      "metadata": {
        "colab": {
          "base_uri": "https://localhost:8080/"
        },
        "id": "Kk2dNU-v1I3M",
        "outputId": "afa36f47-0fad-4d3e-f305-71e11e54ff02"
      },
      "execution_count": 11,
      "outputs": [
        {
          "output_type": "stream",
          "name": "stdout",
          "text": [
            "Hello!\n",
            "None\n"
          ]
        }
      ]
    },
    {
      "cell_type": "code",
      "source": [
        "# Returning Complex Data Types\n",
        "\n",
        "def get_player_name():\n",
        "    return {\"name\": \"Roger\", \"age\": 42}\n",
        "\n",
        "player_data = get_player_name()\n",
        "print(player_data)"
      ],
      "metadata": {
        "colab": {
          "base_uri": "https://localhost:8080/"
        },
        "id": "SdPMJHWW2qwM",
        "outputId": "ed4efd29-1e17-47b1-e1c4-dbaeda1946ee"
      },
      "execution_count": 13,
      "outputs": [
        {
          "output_type": "stream",
          "name": "stdout",
          "text": [
            "{'name': 'Roger', 'age': 42}\n"
          ]
        }
      ]
    },
    {
      "cell_type": "markdown",
      "source": [
        "**How the return Statement Differs from print**\n",
        "\n",
        "*   Sends a value back to the caller.\n",
        "*   Allows further use of the result\n",
        "\n"
      ],
      "metadata": {
        "id": "i7Cwp5ee4nVC"
      }
    },
    {
      "cell_type": "code",
      "source": [
        "# Example of return statement\n",
        "\n",
        "def square(x):\n",
        "    return x ** 2\n",
        "\n",
        "result = square(4)\n",
        "print(result)"
      ],
      "metadata": {
        "colab": {
          "base_uri": "https://localhost:8080/"
        },
        "id": "LDXlkjxn21y8",
        "outputId": "d03ab3f6-9b42-4bb3-96b4-7541074133b8"
      },
      "execution_count": 14,
      "outputs": [
        {
          "output_type": "stream",
          "name": "stdout",
          "text": [
            "16\n"
          ]
        }
      ]
    },
    {
      "cell_type": "code",
      "source": [
        "# Example of print statement\n",
        "\n",
        "def square(x):\n",
        "    print(x ** 2)\n",
        "\n",
        "result = square(4)\n",
        "print(result)"
      ],
      "metadata": {
        "colab": {
          "base_uri": "https://localhost:8080/"
        },
        "id": "koKRMyD1443s",
        "outputId": "8536d570-1696-4e17-94e9-ad225e058c71"
      },
      "execution_count": 15,
      "outputs": [
        {
          "output_type": "stream",
          "name": "stdout",
          "text": [
            "16\n",
            "None\n"
          ]
        }
      ]
    },
    {
      "cell_type": "markdown",
      "source": [
        "# **5. What are iterators in Python and how do they differ from iterables?**\n",
        "\n",
        "Ans - **Iterator -**\n",
        "An iterator is an object that allows traversal through a countable number of values. It is used to iterate over iterable objects like lists, tuples, sets, etc\n",
        "\n",
        "**Iterables -** An iterable is any object in Python that can return an iterator, allowing you to traverse through its elements one at a time.\n",
        "\n",
        "**Key Characteristics of Iterables:**\n",
        "\n",
        "Can be used in a for loop.\n",
        "\n",
        "Includes data structures like lists, tuples, strings, dictionaries, sets, etc.\n",
        "\n",
        "Implements the __iter__() method."
      ],
      "metadata": {
        "id": "auY1_QLc5fXf"
      }
    },
    {
      "cell_type": "code",
      "source": [
        "# Examples of Iterables:\n",
        "\n",
        "my_list = [1, 2, 3]       # List\n",
        "my_string = \"Python\"      # String\n",
        "my_tuple = (4, 5, 6)      # Tuple\n",
        "my_dict = {\"a\": 1, \"b\": 2} # Dictionary"
      ],
      "metadata": {
        "id": "1C29BN4B5MGK"
      },
      "execution_count": 17,
      "outputs": []
    },
    {
      "cell_type": "markdown",
      "source": [
        "**Key Characteristics of Iterators:**\n",
        "\n",
        "Implements the __iter__() and __next__() methods.\n",
        "\n",
        "Can only traverse the elements once.\n",
        "\n",
        "Raises a StopIteration exception when no more elements are available."
      ],
      "metadata": {
        "id": "dLDgjU7g88DO"
      }
    },
    {
      "cell_type": "code",
      "source": [
        "# Convert an iterable into an iterator\n",
        "my_list = [1, 2, 3, 4]\n",
        "my_iterator = iter(my_list)\n",
        "\n",
        "# Access elements using next()\n",
        "print(next(my_iterator))\n",
        "print(next(my_iterator))\n",
        "print(next(my_iterator))\n",
        "print(next(my_iterator))"
      ],
      "metadata": {
        "colab": {
          "base_uri": "https://localhost:8080/"
        },
        "id": "OvMMHels8Sn3",
        "outputId": "a95a2992-6b7d-40ee-b017-5d656a372d3b"
      },
      "execution_count": 20,
      "outputs": [
        {
          "output_type": "stream",
          "name": "stdout",
          "text": [
            "1\n",
            "2\n",
            "3\n",
            "4\n"
          ]
        }
      ]
    },
    {
      "cell_type": "markdown",
      "source": [
        "# **6. Explain the concept of generators in Python and how they are defined.**\n",
        "\n",
        "Ans - Generators are a simple way to create iterators using functions and the yield keyword instead of returning values. Generators in Python are a type of iterable that allow you to lazily generate a sequence of values, one at a time, as they are requested. They are particularly useful when working with large datasets or infinite sequences where storing all values in memory at once is inefficient or impossible.\n",
        "\n",
        "**Generators can be defined in two ways:**\n",
        "\n",
        "*   Using the yield keyword in a function.\n",
        "*   Using generator expressions.\n",
        "\n",
        "**Defining Generators with yield**\n",
        "\n",
        "A generator function is defined like a normal function but uses the yield keyword instead of return. When the function is called, it does not execute immediately; instead, it returns a generator object."
      ],
      "metadata": {
        "id": "moi1Dfun9uNx"
      }
    },
    {
      "cell_type": "code",
      "source": [
        "# Example of simple generator\n",
        "\n",
        "def generate_numbers():\n",
        "    for i in range(5):\n",
        "        yield i\n",
        "\n",
        "# Using the generator\n",
        "gen = generate_numbers()\n",
        "print(next(gen))  # Output: 0\n",
        "print(next(gen))  # Output: 1\n",
        "\n",
        "# Iterating over the generator\n",
        "for num in gen:\n",
        "    print(num)"
      ],
      "metadata": {
        "colab": {
          "base_uri": "https://localhost:8080/"
        },
        "id": "B08ku6P__y8D",
        "outputId": "fdb703b2-b6e8-4af9-9ed7-f780ba15b742"
      },
      "execution_count": 21,
      "outputs": [
        {
          "output_type": "stream",
          "name": "stdout",
          "text": [
            "0\n",
            "1\n",
            "2\n",
            "3\n",
            "4\n"
          ]
        }
      ]
    },
    {
      "cell_type": "code",
      "source": [
        "# Example of Infinite Sequence\n",
        "\n",
        "def infinite_sequence():\n",
        "    num = 0\n",
        "    while True:\n",
        "        yield num\n",
        "        num += 1\n",
        "\n",
        "# Generate an infinite sequence\n",
        "gen = infinite_sequence()\n",
        "print(next(gen))\n",
        "print(next(gen))"
      ],
      "metadata": {
        "colab": {
          "base_uri": "https://localhost:8080/"
        },
        "id": "Oy7WnnWL9Tdt",
        "outputId": "59958644-fef9-4abc-f210-af30bee41bcb"
      },
      "execution_count": 22,
      "outputs": [
        {
          "output_type": "stream",
          "name": "stdout",
          "text": [
            "0\n",
            "1\n"
          ]
        }
      ]
    },
    {
      "cell_type": "code",
      "source": [
        "# Example on Fibonacci Generator\n",
        "\n",
        "def fibonacci(n):\n",
        "    a, b = 0, 1\n",
        "    for _ in range(n):\n",
        "        yield a\n",
        "        a, b = b, a + b\n",
        "\n",
        "for num in fibonacci(10):\n",
        "    print(num)"
      ],
      "metadata": {
        "colab": {
          "base_uri": "https://localhost:8080/"
        },
        "id": "vwRUTpbyAVkQ",
        "outputId": "bf133ab7-e1d5-4762-be7d-4b96e16b982a"
      },
      "execution_count": 24,
      "outputs": [
        {
          "output_type": "stream",
          "name": "stdout",
          "text": [
            "0\n",
            "1\n",
            "1\n",
            "2\n",
            "3\n",
            "5\n",
            "8\n",
            "13\n",
            "21\n",
            "34\n"
          ]
        }
      ]
    },
    {
      "cell_type": "markdown",
      "source": [
        "# **7. What are the advantages of using generators over regular functions?**\n",
        "\n",
        "Ans - Using generators over regular functions offers several significant advantages, especially when dealing with large datasets, infinite sequences, or memory-sensitive applications. Below is an overview of their benefits:\n",
        "\n",
        "**Advantages of Generators Over Regular Functions**\n",
        "\n",
        "**Memory Efficiency**"
      ],
      "metadata": {
        "id": "w-KMp7cLAvX5"
      }
    },
    {
      "cell_type": "code",
      "source": [
        "#Example on Memory-efficient\n",
        "\n",
        "def generate_numbers():\n",
        "    for i in range(10**6):\n",
        "        yield i\n",
        "\n",
        "gen = generate_numbers()"
      ],
      "metadata": {
        "id": "vJqHt8QSAlsQ"
      },
      "execution_count": 26,
      "outputs": []
    },
    {
      "cell_type": "code",
      "source": [
        "#Example on regular function\n",
        "\n",
        "# List example\n",
        "numbers = [i for i in range(10**6)]"
      ],
      "metadata": {
        "id": "6L_KZ119EXT5"
      },
      "execution_count": 27,
      "outputs": []
    },
    {
      "cell_type": "markdown",
      "source": [
        "**Lazy Evaluation**\n",
        "\n",
        "*   Generators compute values only when they are requested.\n",
        "*   This makes them ideal for scenarios where you might not need all the values at once\n",
        "\n",
        "*   Regular functions, by contrast, execute fully and return all the results\n",
        "immediately."
      ],
      "metadata": {
        "id": "i4gGbNIlE_KS"
      }
    },
    {
      "cell_type": "code",
      "source": [
        "# Example\n",
        "\n",
        "def infinite_sequence():\n",
        "    num = 0\n",
        "    while True:\n",
        "        yield num\n",
        "        num += 1\n",
        "\n",
        "gen = infinite_sequence()\n",
        "print(next(gen))\n",
        "print(next(gen))"
      ],
      "metadata": {
        "colab": {
          "base_uri": "https://localhost:8080/"
        },
        "id": "KucvhRKJEz5L",
        "outputId": "22313ab3-9562-4d13-dccf-8309c37f1336"
      },
      "execution_count": 28,
      "outputs": [
        {
          "output_type": "stream",
          "name": "stdout",
          "text": [
            "0\n",
            "1\n"
          ]
        }
      ]
    },
    {
      "cell_type": "markdown",
      "source": [
        "**Handling Infinite Sequences**\n",
        "\n",
        "\n",
        "*   Generators are perfect for working with infinite sequences, like Fibonacci numbers or streams of sensor data.\n",
        "*   Regular functions cannot handle infinite sequences because they would try to compute and return all values at once, leading to memory exhaustion.\n",
        "\n"
      ],
      "metadata": {
        "id": "v2LadXt0FprZ"
      }
    },
    {
      "cell_type": "code",
      "source": [
        "#Example on Handling Infinite Sequences\n",
        "\n",
        "def fibonacci():\n",
        "    a, b = 0, 1\n",
        "    while True:\n",
        "        yield a\n",
        "        a, b = b, a + b\n",
        "\n",
        "gen = fibonacci()\n",
        "for _ in range(5):\n",
        "    print(next(gen))"
      ],
      "metadata": {
        "colab": {
          "base_uri": "https://localhost:8080/"
        },
        "id": "A685NfxJFhpW",
        "outputId": "d6ee083f-9d1b-48bf-89aa-b3efcb4815c8"
      },
      "execution_count": 31,
      "outputs": [
        {
          "output_type": "stream",
          "name": "stdout",
          "text": [
            "0\n",
            "1\n",
            "1\n",
            "2\n",
            "3\n"
          ]
        }
      ]
    },
    {
      "cell_type": "markdown",
      "source": [
        "**Improved Performance**\n",
        "\n",
        "\n",
        "*   Generators can speed up programs by avoiding unnecessary computations and memory allocations."
      ],
      "metadata": {
        "id": "UWuKFpXwREUh"
      }
    },
    {
      "cell_type": "code",
      "source": [
        "# Example\n",
        "\n",
        "def first_n_squares(n):\n",
        "    for i in range(n):\n",
        "        yield i ** 2\n",
        "\n",
        "gen = first_n_squares(10)\n",
        "print(list(gen))"
      ],
      "metadata": {
        "colab": {
          "base_uri": "https://localhost:8080/"
        },
        "id": "XzRvjFQBGCXa",
        "outputId": "23a19519-1907-42f0-95df-7a24766aaf6c"
      },
      "execution_count": 32,
      "outputs": [
        {
          "output_type": "stream",
          "name": "stdout",
          "text": [
            "[0, 1, 4, 9, 16, 25, 36, 49, 64, 81]\n"
          ]
        }
      ]
    },
    {
      "cell_type": "markdown",
      "source": [
        "# **8. What is a lambda function in Python and when is it typically used?**\n",
        "Ans - Lambda functions are small, anonymous functions defined using the lambda keyword. They are used for creating small, throwaway functions without the need to formally define a function using def\n",
        "\n",
        "**Key Points:**\n",
        "\n",
        "*   **Anonymous**: Lambda functions are not bound to a name.\n",
        "*   **Single Expression**: They can contain only one expression, which is evaluated and returned.\n",
        "\n",
        "**Syntax:** -\n",
        "\n",
        "lambda arguments: expression"
      ],
      "metadata": {
        "id": "FH9cIj1ERppN"
      }
    },
    {
      "cell_type": "code",
      "source": [
        "# Example on Regular function\n",
        "\n",
        "def add(a, b):\n",
        "    return a + b\n",
        "\n",
        "add_lambda = lambda a, b: a + b\n",
        "print(add_lambda(3, 5))"
      ],
      "metadata": {
        "colab": {
          "base_uri": "https://localhost:8080/"
        },
        "id": "_LV2y66SSsTL",
        "outputId": "b7f910f9-f2bd-43ba-a0d7-406a5b6ce034"
      },
      "execution_count": 35,
      "outputs": [
        {
          "output_type": "stream",
          "name": "stdout",
          "text": [
            "8\n"
          ]
        }
      ]
    },
    {
      "cell_type": "code",
      "source": [
        "# example map(), filter(), sorted()\n",
        "\n",
        "# Example with map()\n",
        "numbers = [26, 27, 31, 46]\n",
        "squares = list(map(lambda x: x ** 2, numbers))\n",
        "print(squares)\n",
        "\n",
        "# Example with filter()\n",
        "nums = [10, 15, 20, 25]\n",
        "divisible_by_5 = list(filter(lambda x: x % 5 == 0, nums))\n",
        "print(divisible_by_5)\n",
        "\n",
        "# Example with sorted()\n",
        "names = [\"Roger\", \"Nadal\", \"Djokovic\"]\n",
        "sorted_names = sorted(names, key=lambda x: len(x))\n",
        "print(sorted_names)"
      ],
      "metadata": {
        "colab": {
          "base_uri": "https://localhost:8080/"
        },
        "id": "6OW5h8k8SUDg",
        "outputId": "9ee20296-e716-466c-c0a6-ce017ad6ec88"
      },
      "execution_count": 37,
      "outputs": [
        {
          "output_type": "stream",
          "name": "stdout",
          "text": [
            "[676, 729, 961, 2116]\n",
            "[10, 15, 20, 25]\n",
            "['Roger', 'Nadal', 'Djokovic']\n"
          ]
        }
      ]
    },
    {
      "cell_type": "code",
      "source": [
        "# Short, Single-Use Functions\n",
        "\n",
        "pairs = [(1, 'a'), (2, 'b'), (3, 'c')]\n",
        "sorted_pairs = sorted(pairs, key=lambda x: x[1])\n",
        "print(sorted_pairs)"
      ],
      "metadata": {
        "colab": {
          "base_uri": "https://localhost:8080/"
        },
        "id": "oLm-j1kSSVAd",
        "outputId": "998aafa1-f58c-4d5c-9550-833f33108c25"
      },
      "execution_count": 38,
      "outputs": [
        {
          "output_type": "stream",
          "name": "stdout",
          "text": [
            "[(1, 'a'), (2, 'b'), (3, 'c')]\n"
          ]
        }
      ]
    },
    {
      "cell_type": "markdown",
      "source": [
        "**Lambda Functions vs Regular Functions**"
      ],
      "metadata": {
        "id": "wYrPvV6hVpmv"
      }
    },
    {
      "cell_type": "code",
      "source": [
        "# Example\n",
        "\n",
        "# Lambda function\n",
        "square = lambda x: x ** 2\n",
        "print(square(9))\n",
        "\n",
        "# Regular function\n",
        "def square_fn(x):\n",
        "    return x ** 2\n",
        "print(square_fn(12))"
      ],
      "metadata": {
        "colab": {
          "base_uri": "https://localhost:8080/"
        },
        "id": "m6kuGPRQRdhP",
        "outputId": "4578825a-59a0-41d2-f70b-f08eceb28765"
      },
      "execution_count": 41,
      "outputs": [
        {
          "output_type": "stream",
          "name": "stdout",
          "text": [
            "81\n",
            "144\n"
          ]
        }
      ]
    },
    {
      "cell_type": "markdown",
      "source": [
        "# **9. Explain the purpose and usage of the `map()` function in Python.**\n",
        "\n",
        "Ans - The map function applies a given function to all items in an input iterable (like a list) and returns an iterator with the results.\n",
        "\n",
        "**Key Points:**\n",
        "\n",
        "*   **Transformation**: Used to transform each item in an iterable by applying the specified function.\n",
        "\n",
        "**Syntax:**\n",
        "\n",
        "map(function, iterable)\n"
      ],
      "metadata": {
        "id": "SZrBrvBrYBLh"
      }
    },
    {
      "cell_type": "code",
      "source": [
        "# Examples of map() Usage\n",
        "\n",
        "# Function to compute square\n",
        "def square(x):\n",
        "    return x ** 2\n",
        "\n",
        "numbers = [1, 2, 3, 4, 5]\n",
        "squares = map(square, numbers)\n",
        "\n",
        "print(list(squares))"
      ],
      "metadata": {
        "colab": {
          "base_uri": "https://localhost:8080/"
        },
        "id": "YWhTEtHGVvHC",
        "outputId": "c2ce041b-5613-4fd2-9437-eb54cb946b72"
      },
      "execution_count": 42,
      "outputs": [
        {
          "output_type": "stream",
          "name": "stdout",
          "text": [
            "[1, 4, 9, 16, 25]\n"
          ]
        }
      ]
    },
    {
      "cell_type": "code",
      "source": [
        "# Example on Using a Lambda Function with map()\n",
        "\n",
        "numbers = [1, 2, 3, 4, 5]\n",
        "squares = map(lambda x: x ** 2, numbers)\n",
        "\n",
        "print(list(squares))"
      ],
      "metadata": {
        "colab": {
          "base_uri": "https://localhost:8080/"
        },
        "id": "0wxnt1V3ZqN_",
        "outputId": "5b737a4a-4be6-494c-b46c-aa8d117e81e3"
      },
      "execution_count": 43,
      "outputs": [
        {
          "output_type": "stream",
          "name": "stdout",
          "text": [
            "[1, 4, 9, 16, 25]\n"
          ]
        }
      ]
    },
    {
      "cell_type": "code",
      "source": [
        "# Mapping Over Multiple Iterables\n",
        "\n",
        "list1 = [1, 2, 3]\n",
        "list2 = [4, 5, 6]\n",
        "result = map(lambda x, y: x + y, list1, list2)\n",
        "\n",
        "print(list(result))"
      ],
      "metadata": {
        "colab": {
          "base_uri": "https://localhost:8080/"
        },
        "id": "VGUS-3v9ZyN9",
        "outputId": "9b8f9838-11e3-48a5-ef79-31f4c6fc36c9"
      },
      "execution_count": 44,
      "outputs": [
        {
          "output_type": "stream",
          "name": "stdout",
          "text": [
            "[5, 7, 9]\n"
          ]
        }
      ]
    },
    {
      "cell_type": "code",
      "source": [
        "# Applying Functions to Tuples\n",
        "\n",
        "names = (\"Roger\", \"nadal\", \"djokovic\")\n",
        "uppercase_names = map(str.upper, names)\n",
        "\n",
        "print(tuple(uppercase_names))"
      ],
      "metadata": {
        "colab": {
          "base_uri": "https://localhost:8080/"
        },
        "id": "ZITv6n4RZ9cR",
        "outputId": "c19da988-96a9-4d13-de54-38f549c4e125"
      },
      "execution_count": 46,
      "outputs": [
        {
          "output_type": "stream",
          "name": "stdout",
          "text": [
            "('ROGER', 'NADAL', 'DJOKOVIC')\n"
          ]
        }
      ]
    },
    {
      "cell_type": "markdown",
      "source": [
        "# **10. What is the difference between `map()`, `reduce()`, and `filter()` functions in Python?**\n",
        "\n",
        "Ans - **Map Function** - The map function applies a given function to all items in an input iterable (like a list) and returns an iterator with the results.\n",
        "\n",
        "**Key Points:**\n",
        "\n",
        "Transformation: Used to transform each item in an iterable by applying the specified function.\n",
        "\n",
        "Syntax:\n",
        "map(function, iterable)\n",
        "\n",
        "**Reduce Function** - The reduce function from the functools module applies a given function cumulatively to the items of a sequence, from left to right, to reduce the sequence to a single value.\n",
        "\n",
        "**Key Points:**\n",
        "\n",
        "Cumulative Operation: It reduces an iterable to a single cumulative value by applying the function cumulatively.\n",
        "\n",
        "**Filter Function** - The filter function constructs an iterator from elements of an iterable for which a specified function returns True.\n",
        "\n",
        "**Key Points:**\n",
        "\n",
        "Selection: Used for filtering elements from an iterable based on a condition defined by the function.\n",
        "\n",
        "Syntax: filter(function, iterable)"
      ],
      "metadata": {
        "id": "1Ta-iJfmaXYI"
      }
    },
    {
      "cell_type": "code",
      "source": [
        "# Example on map()\n",
        "\n",
        "numbers = [1, 2, 3, 4]\n",
        "squares = map(lambda x: x ** 2, numbers)\n",
        "print(list(squares))"
      ],
      "metadata": {
        "colab": {
          "base_uri": "https://localhost:8080/"
        },
        "id": "62Hpepq-aJIF",
        "outputId": "2ac4545e-5939-4680-9b3b-bfd417a741e9"
      },
      "execution_count": 47,
      "outputs": [
        {
          "output_type": "stream",
          "name": "stdout",
          "text": [
            "[1, 4, 9, 16]\n"
          ]
        }
      ]
    },
    {
      "cell_type": "code",
      "source": [
        "# Example on reduce()\n",
        "\n",
        "from functools import reduce\n",
        "\n",
        "numbers = [1, 2, 3, 4]\n",
        "product = reduce(lambda x, y: x * y, numbers)\n",
        "print(product)"
      ],
      "metadata": {
        "colab": {
          "base_uri": "https://localhost:8080/"
        },
        "id": "oowtsi1fdSAP",
        "outputId": "c5d0550f-fcd9-495c-90dd-5cc0483acd81"
      },
      "execution_count": 49,
      "outputs": [
        {
          "output_type": "stream",
          "name": "stdout",
          "text": [
            "24\n"
          ]
        }
      ]
    },
    {
      "cell_type": "code",
      "source": [
        "# Example on filter()\n",
        "\n",
        "numbers = [1, 2, 3, 4, 5]\n",
        "even_numbers = filter(lambda x: x % 2 == 0, numbers)\n",
        "print(list(even_numbers))"
      ],
      "metadata": {
        "colab": {
          "base_uri": "https://localhost:8080/"
        },
        "id": "GOvUQG-YdG0x",
        "outputId": "d7aedf14-589f-40c8-8404-b022528b659e"
      },
      "execution_count": 48,
      "outputs": [
        {
          "output_type": "stream",
          "name": "stdout",
          "text": [
            "[2, 4]\n"
          ]
        }
      ]
    },
    {
      "cell_type": "markdown",
      "source": [
        "**Comparison with Examples**"
      ],
      "metadata": {
        "id": "YumKWedRdiOA"
      }
    },
    {
      "cell_type": "code",
      "source": [
        "#Using map()\n",
        "\n",
        "celsius = [0, 10, 20, 30]\n",
        "fahrenheit = map(lambda x: (x * 9/5) + 32, celsius)\n",
        "print(list(fahrenheit))"
      ],
      "metadata": {
        "colab": {
          "base_uri": "https://localhost:8080/"
        },
        "id": "BOMEqnHJdNDV",
        "outputId": "c8d77495-cc07-4f9d-ad92-dd132eeea3a5"
      },
      "execution_count": 50,
      "outputs": [
        {
          "output_type": "stream",
          "name": "stdout",
          "text": [
            "[32.0, 50.0, 68.0, 86.0]\n"
          ]
        }
      ]
    },
    {
      "cell_type": "code",
      "source": [
        "# using reduce()\n",
        "\n",
        "numbers = [1, 2, 3, 4]\n",
        "total = reduce(lambda x, y: x + y, numbers)\n",
        "print(total)  # Output: 10"
      ],
      "metadata": {
        "colab": {
          "base_uri": "https://localhost:8080/"
        },
        "id": "gmoZh-RUdyGK",
        "outputId": "88dbee81-d586-4daa-87ce-939984fb0359"
      },
      "execution_count": 52,
      "outputs": [
        {
          "output_type": "stream",
          "name": "stdout",
          "text": [
            "10\n"
          ]
        }
      ]
    },
    {
      "cell_type": "code",
      "source": [
        "# filter\n",
        "\n",
        "celsius = [0, 10, 20, 30]\n",
        "above_15 = filter(lambda x: x > 15, celsius)\n",
        "print(list(above_15))"
      ],
      "metadata": {
        "colab": {
          "base_uri": "https://localhost:8080/"
        },
        "id": "P8gUy7widp4t",
        "outputId": "4746aa82-af4b-4d36-f532-61b26500ad60"
      },
      "execution_count": 51,
      "outputs": [
        {
          "output_type": "stream",
          "name": "stdout",
          "text": [
            "[20, 30]\n"
          ]
        }
      ]
    },
    {
      "cell_type": "code",
      "source": [],
      "metadata": {
        "id": "Jmapgt-3dweo"
      },
      "execution_count": null,
      "outputs": []
    }
  ]
}